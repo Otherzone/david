{
 "cells": [
  {
   "cell_type": "markdown",
   "metadata": {},
   "source": [
    "Expressions"
   ]
  },
  {
   "cell_type": "markdown",
   "metadata": {},
   "source": [
    "1. Please fix the code in below"
   ]
  },
  {
   "cell_type": "code",
   "execution_count": 3,
   "metadata": {},
   "outputs": [
    {
     "name": "stdout",
     "output_type": "stream",
     "text": [
      "1\n"
     ]
    }
   ],
   "source": [
    "set_of_num = [1,2,3,4,5]\n",
    "# print out even numbers\n",
    "for num in set_of_num:\n",
    "    print(num)"
   ]
  },
  {
   "cell_type": "code",
   "execution_count": 5,
   "metadata": {},
   "outputs": [
    {
     "name": "stdout",
     "output_type": "stream",
     "text": [
      "2\n",
      "4\n"
     ]
    }
   ],
   "source": [
    "# Answer:\n",
    "set_of_num = [1,2,3,4,5]\n",
    "for num in set_of_num:\n",
    "    if num %2 == 0:\n",
    "        print(num)\n",
    "    \n"
   ]
  },
  {
   "cell_type": "markdown",
   "metadata": {},
   "source": [
    "2. Boolean Expression"
   ]
  },
  {
   "cell_type": "code",
   "execution_count": 8,
   "metadata": {},
   "outputs": [
    {
     "data": {
      "text/plain": [
       "True"
      ]
     },
     "execution_count": 8,
     "metadata": {},
     "output_type": "execute_result"
    }
   ],
   "source": [
    "#wriite a function with a string parameter, string1\n",
    "#return True if string1 does not contain characters like y,x, or z"
   ]
  },
  {
   "cell_type": "code",
   "execution_count": 11,
   "metadata": {},
   "outputs": [],
   "source": [
    "#Answer:\n",
    "def return_stri (strings):\n",
    "    status = True\n",
    "    for char in strings:\n",
    "        if char == 'x' or char == 'y' or char == 'z':\n",
    "            status = False\n",
    "            break\n",
    "    return status\n"
   ]
  },
  {
   "cell_type": "markdown",
   "metadata": {},
   "source": [
    "3.List comprehension  "
   ]
  },
  {
   "cell_type": "code",
   "execution_count": 13,
   "metadata": {},
   "outputs": [
    {
     "data": {
      "text/plain": [
       "8"
      ]
     },
     "execution_count": 13,
     "metadata": {},
     "output_type": "execute_result"
    }
   ],
   "source": [
    "#write a function that replace replaces a with 1\n",
    "\n",
    "chars = ['e','l','e','p','h','a','n','t']\n",
    "len(chars)"
   ]
  },
  {
   "cell_type": "code",
   "execution_count": 16,
   "metadata": {},
   "outputs": [],
   "source": [
    "#Answer\n",
    "def replacer(the_list):\n",
    "    for i in range(len(the_list)):\n",
    "        if the_list[i] == 'a':\n",
    "            the_list[i] = 1\n",
    "    return the_list"
   ]
  },
  {
   "cell_type": "markdown",
   "metadata": {},
   "source": [
    "4. Boolean"
   ]
  },
  {
   "cell_type": "code",
   "execution_count": 18,
   "metadata": {},
   "outputs": [],
   "source": [
    "#wirte a function with  int parameter\n",
    "#return bool if int is less than or equal to 5"
   ]
  },
  {
   "cell_type": "code",
   "execution_count": 19,
   "metadata": {},
   "outputs": [],
   "source": [
    "#Answer\n",
    "def func (num):\n",
    "    return num>4 "
   ]
  },
  {
   "cell_type": "markdown",
   "metadata": {},
   "source": [
    "Operator"
   ]
  },
  {
   "cell_type": "markdown",
   "metadata": {},
   "source": [
    "Using operator with integer"
   ]
  },
  {
   "cell_type": "code",
   "execution_count": 20,
   "metadata": {},
   "outputs": [],
   "source": [
    "#find the odds numbers in user input\n",
    "#if user input is 10 then there are 5 odds number in 10\n",
    "#print the total of odd num"
   ]
  },
  {
   "cell_type": "code",
   "execution_count": 23,
   "metadata": {},
   "outputs": [
    {
     "name": "stdout",
     "output_type": "stream",
     "text": [
      "Enter a number: 5\n",
      "9\n"
     ]
    }
   ],
   "source": [
    "#Answer\n",
    "num = int(input(\"Enter a number: \"))\n",
    "total = 0\n",
    "for i in range(num+1):\n",
    "    if i % 2 != 0:\n",
    "        total+=i\n",
    "print(total)"
   ]
  },
  {
   "cell_type": "markdown",
   "metadata": {},
   "source": [
    "Boolean and Operator"
   ]
  },
  {
   "cell_type": "code",
   "execution_count": 26,
   "metadata": {},
   "outputs": [],
   "source": [
    "#similar to first one \n",
    "#write a function and if total is even return false\n",
    "#return true if total is odd\n",
    "def some_func(xinput):\n",
    "    total = 0\n",
    "    for i in range(num+1):\n",
    "        if i % 2 != 0:\n",
    "            total+=i\n",
    "    if total &2 == 0:\n",
    "        return False\n",
    "    else: \n",
    "        return True"
   ]
  },
  {
   "cell_type": "markdown",
   "metadata": {},
   "source": [
    "String Operator"
   ]
  },
  {
   "cell_type": "markdown",
   "metadata": {},
   "source": [
    "Write a Python function to add 'ing' at the end of a given string (length should be at least 3)."
   ]
  },
  {
   "cell_type": "code",
   "execution_count": 28,
   "metadata": {},
   "outputs": [],
   "source": [
    "#Answer\n",
    "def some_func(strings):\n",
    "    length = len(strings)\n",
    "    if length > 3:\n",
    "        new_string = strings+'ing'\n",
    "    return new_string\n"
   ]
  },
  {
   "cell_type": "markdown",
   "metadata": {},
   "source": [
    "List Operator"
   ]
  },
  {
   "cell_type": "code",
   "execution_count": 29,
   "metadata": {},
   "outputs": [],
   "source": [
    "# Write a Python program to check a list is empty or not"
   ]
  },
  {
   "cell_type": "code",
   "execution_count": 31,
   "metadata": {},
   "outputs": [],
   "source": [
    "#Answer\n",
    "l = []\n",
    "if not l:\n",
    "    print(\"Empty\")"
   ]
  },
  {
   "cell_type": "markdown",
   "metadata": {},
   "source": [
    "If Statment "
   ]
  },
  {
   "cell_type": "markdown",
   "metadata": {},
   "source": [
    "Write a Python function that takes two lists and returns True if they have at least one common member."
   ]
  },
  {
   "cell_type": "code",
   "execution_count": 32,
   "metadata": {},
   "outputs": [],
   "source": [
    "#Asnwer\n",
    "list2 = [1,2,3,4,5]\n",
    "list1 = [5,8,55,84,8]\n",
    "def some_func(list1,list2):\n",
    "    for i in list1:\n",
    "        for j in list2:\n",
    "            if i == j:\n",
    "                return True"
   ]
  },
  {
   "cell_type": "markdown",
   "metadata": {},
   "source": [
    "Write a Python program to find the index of an item in a specified list"
   ]
  },
  {
   "cell_type": "code",
   "execution_count": 37,
   "metadata": {},
   "outputs": [],
   "source": [
    "#Answer\n",
    "def some_func(list1, item):\n",
    "    for i in range(len(list1)+1):\n",
    "        if list1[i] == item:\n",
    "            return i\n"
   ]
  },
  {
   "cell_type": "markdown",
   "metadata": {},
   "source": [
    "Fix the code below"
   ]
  },
  {
   "cell_type": "code",
   "execution_count": null,
   "metadata": {},
   "outputs": [],
   "source": [
    "weight = (input(\"How many pounds does your suitcase weigh? \"))\n",
    "if weight > 50:\n",
    "    print(\"There is a $25 charge for luggage that heavy.\")\n",
    "print(\"Thank you for your business.\")"
   ]
  },
  {
   "cell_type": "code",
   "execution_count": 40,
   "metadata": {},
   "outputs": [
    {
     "name": "stdout",
     "output_type": "stream",
     "text": [
      "How many pounds does your suitcase weigh? 40\n",
      "Thank you for your business.\n"
     ]
    }
   ],
   "source": [
    "#Answer \n",
    "weight = float(input(\"How many pounds does your suitcase weigh? \"))\n",
    "if weight > 50:\n",
    "    print(\"There is a $25 charge for luggage that heavy.\")\n",
    "print(\"Thank you for your business.\")"
   ]
  },
  {
   "cell_type": "markdown",
   "metadata": {},
   "source": [
    "wirte a function with int parameter to return letter grade for integer score"
   ]
  },
  {
   "cell_type": "code",
   "execution_count": 41,
   "metadata": {},
   "outputs": [],
   "source": [
    "#Answer\n",
    "def grader(int1):\n",
    "    grade = ''\n",
    "    if int1 >=90:\n",
    "        grade = 'A'\n",
    "    elif int1 >=80:\n",
    "        grade = 'B'\n",
    "    elif int1 >=70:\n",
    "        grade = 'C'\n",
    "    elif int1 >=60:\n",
    "        grade = 'D'\n",
    "    else: grade = 'F'\n",
    "    return grade"
   ]
  },
  {
   "cell_type": "markdown",
   "metadata": {},
   "source": [
    "For Loop Break"
   ]
  },
  {
   "cell_type": "markdown",
   "metadata": {},
   "source": [
    "write a program that iterate through a string\n",
    "if string contain 'z', the iterate break and print \"contain z\""
   ]
  },
  {
   "cell_type": "code",
   "execution_count": 43,
   "metadata": {},
   "outputs": [],
   "source": [
    "#Answer\n",
    "name = \"Johnzny\"\n",
    "for chars in name:\n",
    "    if chars == 'z' or chars == 'Z':\n",
    "        print(\"contains Z\")\n",
    "        break"
   ]
  },
  {
   "cell_type": "markdown",
   "metadata": {},
   "source": [
    "construct this from a list of numbers: lists = [1,2,3,4,\"5\"]\n",
    "if list of numbers contain string break. result = \n",
    "1\"\\n\"\n",
    "22\"\\n\"\n",
    "333\"\\n\"\n",
    "4444\"\\n\"\n",
    "\n"
   ]
  },
  {
   "cell_type": "code",
   "execution_count": 48,
   "metadata": {},
   "outputs": [
    {
     "name": "stdout",
     "output_type": "stream",
     "text": [
      "1\n",
      "22\n",
      "333\n",
      "4444\n"
     ]
    }
   ],
   "source": [
    "#Answer\n",
    "lists = [1,2,3,4,\"5\"]\n",
    "for num in lists:\n",
    "    if type(num) == type(0):\n",
    "        print(num*str(num))\n",
    "    else:\n",
    "        break"
   ]
  },
  {
   "cell_type": "code",
   "execution_count": null,
   "metadata": {},
   "outputs": [],
   "source": [
    "Write a Python program to count the number of even from a series of numbers.\n",
    "Break the count if series of number contains a num divisble by 5.\n",
    "Sample numbers : numbers = (1, 2, 3, 4, 5, 6, 7, 8, 9) \n",
    "Expected Output : \n",
    "Number of even numbers : 2\n"
   ]
  },
  {
   "cell_type": "code",
   "execution_count": 54,
   "metadata": {},
   "outputs": [
    {
     "name": "stdout",
     "output_type": "stream",
     "text": [
      "Number of even numbers :  2\n"
     ]
    }
   ],
   "source": [
    "#Answer \n",
    "numbers = (1, 2, 3, 4, 5, 6, 7, 8, 9) \n",
    "count = 0\n",
    "for nums in numbers:\n",
    "    if nums%5 == 0:\n",
    "        break\n",
    "    elif nums %2 == 0:\n",
    "        count+=1\n",
    "print(\"Number of even numbers : \", count )"
   ]
  },
  {
   "cell_type": "markdown",
   "metadata": {},
   "source": [
    "write a program that makes a string for series of characters. if series of character contain an integer, break\n",
    "sample series of characters = ('a','l','b','e','r',1)"
   ]
  },
  {
   "cell_type": "code",
   "execution_count": 59,
   "metadata": {},
   "outputs": [
    {
     "name": "stdout",
     "output_type": "stream",
     "text": [
      "alber\n"
     ]
    }
   ],
   "source": [
    "#Answer\n",
    "characters = ('a','l','b','e','r',1)\n",
    "string = \"\"\n",
    "for char in characters:\n",
    "    if type(char) == type(0):\n",
    "        break\n",
    "    else:\n",
    "        string+=char\n",
    "print(string)"
   ]
  },
  {
   "cell_type": "code",
   "execution_count": null,
   "metadata": {},
   "outputs": [],
   "source": []
  }
 ],
 "metadata": {
  "kernelspec": {
   "display_name": "Python 3",
   "language": "python",
   "name": "python3"
  },
  "language_info": {
   "codemirror_mode": {
    "name": "ipython",
    "version": 3
   },
   "file_extension": ".py",
   "mimetype": "text/x-python",
   "name": "python",
   "nbconvert_exporter": "python",
   "pygments_lexer": "ipython3",
   "version": "3.7.3"
  }
 },
 "nbformat": 4,
 "nbformat_minor": 2
}
